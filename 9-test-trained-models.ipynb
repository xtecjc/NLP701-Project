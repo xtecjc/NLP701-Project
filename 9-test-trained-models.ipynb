{
 "cells": [
  {
   "cell_type": "code",
   "execution_count": 9,
   "id": "9a8f94c7",
   "metadata": {
    "ExecuteTime": {
     "end_time": "2023-12-16T18:33:02.051946Z",
     "start_time": "2023-12-16T18:33:02.046655Z"
    },
    "code_folding": []
   },
   "outputs": [],
   "source": [
    "# Libraries \n",
    "\n",
    "import spacy\n",
    "from nltk import sent_tokenize\n",
    "\n",
    "import pickle\n",
    "import pandas as pd\n",
    "from tqdm.notebook import tqdm\n",
    "\n",
    "from datasets import Dataset\n",
    "from transformers import AutoTokenizer, AutoModelForSequenceClassification, TrainingArguments, Trainer"
   ]
  },
  {
   "cell_type": "code",
   "execution_count": 13,
   "id": "4f54cbea",
   "metadata": {
    "ExecuteTime": {
     "end_time": "2023-12-16T18:35:59.635158Z",
     "start_time": "2023-12-16T18:35:59.612226Z"
    },
    "code_folding": [
     2,
     15
    ]
   },
   "outputs": [],
   "source": [
    "# Functions \n",
    "\n",
    "def extract_triples(sentence, nlp1, visualize = False): \n",
    "    \n",
    "    doc = nlp1(sentence)\n",
    "\n",
    "    if visualize:\n",
    "        colors = {'subj': \"#59ba41\", 'rel':\"#85C1E1\", 'obj':'#e98686', 'mod':'#e7e705'}\n",
    "        options = {\"ents\": ['subj', 'obj', 'rel', 'mod'], \"colors\": colors} \n",
    "        spacy.displacy.render(doc, style = \"ent\", jupyter = True, options = options)\n",
    "        \n",
    "    entities = {ent.text:ent.label_ for ent in doc.ents}\n",
    "    \n",
    "    return entities\n",
    "\n",
    "def full_triple_parsing(sentence, nlp1): \n",
    "    \n",
    "    first_sentence = sentence\n",
    "    annotations = []\n",
    "    while True: \n",
    "        \n",
    "        triples = extract_triples(sentence, nlp1, False)\n",
    "        if all([tag in list(triples.values()) for tag in ['subj', 'rel', 'obj']]): \n",
    "            \n",
    "            if len(triples) >= 3:\n",
    "                \n",
    "                reverse_dict = {v:k for k,v in triples.items()}\n",
    "                annotations.append(reverse_dict)\n",
    "                sentence = reverse_dict['obj']\n",
    "                \n",
    "            else:\n",
    "                break\n",
    "        else:\n",
    "            break\n",
    "            \n",
    "    result = {'sentence':first_sentence, 'annotations':annotations}  \n",
    "    \n",
    "    return result \n",
    "\n",
    "def tokenize_goldstein(examples): \n",
    "    \n",
    "    return goldstein_tokenizer(examples[\"text\"], padding=\"max_length\", truncation=True) \n",
    "\n",
    "def predict_goldstein(text, trainer): \n",
    "    \n",
    "    df = pd.DataFrame({'text':text})\n",
    "    \n",
    "    dataset = Dataset.from_pandas(df,preserve_index=False) \n",
    "    \n",
    "    tokenized_datasets = dataset.map(tokenize_goldstein)\n",
    "    \n",
    "    raw_pred, _, _ = trainer.predict(tokenized_datasets) \n",
    "    \n",
    "    return raw_pred"
   ]
  },
  {
   "cell_type": "code",
   "execution_count": null,
   "id": "5053a98d",
   "metadata": {
    "ExecuteTime": {
     "end_time": "2023-12-16T18:32:26.286681Z",
     "start_time": "2023-12-16T18:32:23.185334Z"
    },
    "code_folding": []
   },
   "outputs": [],
   "source": [
    "# Models \n",
    "\n",
    "# spacy.require_gpu()\n",
    "\n",
    "# Load triple extraction model \n",
    "triple_parser = spacy.load(r\"models/triple_parsing_model/model-best\") \n",
    "\n",
    "# Load regression model \n",
    "# Get tokenizer \n",
    "goldstein_tokenizer = AutoTokenizer.from_pretrained('tokenizer2/')\n",
    "\n",
    "# Get model \n",
    "goldstein_model = AutoModelForSequenceClassification.from_pretrained('model2/', num_labels = 1)\n",
    "golstein_trainer = Trainer(model = goldstein_model)"
   ]
  },
  {
   "cell_type": "code",
   "execution_count": 6,
   "id": "bed3ac79",
   "metadata": {
    "ExecuteTime": {
     "end_time": "2023-12-16T18:32:29.584919Z",
     "start_time": "2023-12-16T18:32:29.579651Z"
    }
   },
   "outputs": [],
   "source": [
    "# Input your sample text \n",
    "text = ':\"The concept and quality of the master plan makes this an exciting new addition, not only to the Eastern Province but also to the Kingdom of Saudi Arabia.\"'"
   ]
  },
  {
   "cell_type": "markdown",
   "id": "89dcd450",
   "metadata": {},
   "source": [
    "# Test Triple Extraction Model"
   ]
  },
  {
   "cell_type": "code",
   "execution_count": 7,
   "id": "0b1fc3b5",
   "metadata": {
    "ExecuteTime": {
     "end_time": "2023-12-16T18:32:30.484429Z",
     "start_time": "2023-12-16T18:32:30.437418Z"
    }
   },
   "outputs": [
    {
     "data": {
      "text/html": [
       "<span class=\"tex2jax_ignore\"><div class=\"entities\" style=\"line-height: 2.5; direction: ltr\">:&quot;\n",
       "<mark class=\"entity\" style=\"background: #59ba41; padding: 0.45em 0.6em; margin: 0 0.25em; line-height: 1; border-radius: 0.35em;\">\n",
       "    The concept and quality of the master plan\n",
       "    <span style=\"font-size: 0.8em; font-weight: bold; line-height: 1; border-radius: 0.35em; vertical-align: middle; margin-left: 0.5rem\">subj</span>\n",
       "</mark>\n",
       " \n",
       "<mark class=\"entity\" style=\"background: #85C1E1; padding: 0.45em 0.6em; margin: 0 0.25em; line-height: 1; border-radius: 0.35em;\">\n",
       "    makes\n",
       "    <span style=\"font-size: 0.8em; font-weight: bold; line-height: 1; border-radius: 0.35em; vertical-align: middle; margin-left: 0.5rem\">rel</span>\n",
       "</mark>\n",
       " \n",
       "<mark class=\"entity\" style=\"background: #e98686; padding: 0.45em 0.6em; margin: 0 0.25em; line-height: 1; border-radius: 0.35em;\">\n",
       "    this an exciting new addition, not only to the Eastern Province but also to the Kingdom of Saudi Arabia\n",
       "    <span style=\"font-size: 0.8em; font-weight: bold; line-height: 1; border-radius: 0.35em; vertical-align: middle; margin-left: 0.5rem\">obj</span>\n",
       "</mark>\n",
       ".&quot;</div></span>"
      ],
      "text/plain": [
       "<IPython.core.display.HTML object>"
      ]
     },
     "metadata": {},
     "output_type": "display_data"
    }
   ],
   "source": [
    "triples = extract_triples(text, triple_parser, visualize = True)"
   ]
  },
  {
   "cell_type": "markdown",
   "id": "1e9f8256",
   "metadata": {},
   "source": [
    "# Test Goldstein Regression Model"
   ]
  },
  {
   "cell_type": "code",
   "execution_count": 16,
   "id": "f9c20604",
   "metadata": {
    "ExecuteTime": {
     "end_time": "2023-12-16T18:36:12.014759Z",
     "start_time": "2023-12-16T18:36:11.963566Z"
    }
   },
   "outputs": [
    {
     "data": {
      "application/vnd.jupyter.widget-view+json": {
       "model_id": "",
       "version_major": 2,
       "version_minor": 0
      },
      "text/plain": [
       "Map:   0%|          | 0/1 [00:00<?, ? examples/s]"
      ]
     },
     "metadata": {},
     "output_type": "display_data"
    },
    {
     "data": {
      "text/html": [],
      "text/plain": [
       "<IPython.core.display.HTML object>"
      ]
     },
     "metadata": {},
     "output_type": "display_data"
    },
    {
     "data": {
      "text/plain": [
       "array([[3.0098212]], dtype=float32)"
      ]
     },
     "execution_count": 16,
     "metadata": {},
     "output_type": "execute_result"
    }
   ],
   "source": [
    "goldstein_score = predict_goldstein([text], golstein_trainer)\n",
    "goldstein_score"
   ]
  }
 ],
 "metadata": {
  "kernelspec": {
   "display_name": "Python 3",
   "language": "python",
   "name": "python3"
  },
  "language_info": {
   "codemirror_mode": {
    "name": "ipython",
    "version": 3
   },
   "file_extension": ".py",
   "mimetype": "text/x-python",
   "name": "python",
   "nbconvert_exporter": "python",
   "pygments_lexer": "ipython3",
   "version": "3.7.10"
  },
  "toc": {
   "base_numbering": 1,
   "nav_menu": {},
   "number_sections": true,
   "sideBar": true,
   "skip_h1_title": false,
   "title_cell": "Table of Contents",
   "title_sidebar": "Contents",
   "toc_cell": false,
   "toc_position": {},
   "toc_section_display": true,
   "toc_window_display": false
  }
 },
 "nbformat": 4,
 "nbformat_minor": 5
}
