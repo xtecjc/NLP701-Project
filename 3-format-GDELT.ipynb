{
 "cells": [
  {
   "cell_type": "code",
   "execution_count": null,
   "id": "27c83797",
   "metadata": {
    "ExecuteTime": {
     "end_time": "2023-07-02T10:01:31.863940Z",
     "start_time": "2023-07-02T10:01:31.379519Z"
    },
    "code_folding": []
   },
   "outputs": [],
   "source": [
    "# Libraries \n",
    "\n",
    "import os\n",
    "import json\n",
    "import pickle\n",
    "import datetime\n",
    "import pandas as pd\n",
    "from tqdm.notebook import tqdm\n",
    "\n",
    "from pymongo import MongoClient\n",
    "\n",
    "tqdm.pandas()\n",
    "\n",
    "# Starting MongoDB\n",
    "password = '' # YOUR SYSTEM PASSWORD\n",
    "mongod_restart_command = \"sudo -S systemctl restart mongod\"\n",
    "os.system('echo %s | %s' % (password, mongod_restart_command))"
   ]
  },
  {
   "cell_type": "code",
   "execution_count": 17,
   "id": "5eb7f7ea",
   "metadata": {
    "ExecuteTime": {
     "end_time": "2023-07-02T10:43:25.879115Z",
     "start_time": "2023-07-02T10:43:25.862218Z"
    },
    "code_folding": [
     2,
     46,
     60
    ]
   },
   "outputs": [],
   "source": [
    "# Functions \n",
    "\n",
    "def clean_events(df): \n",
    "    \n",
    "    df['GLOBALEVENTID'] = df[\"GLOBALEVENTID\"].progress_apply(lambda x: str(x))\n",
    "    df[\"ScrapeDate\"] = df['DATEADDED'].progress_apply(lambda x: StrToDate(x)) \n",
    "    df[\"EventDate\"] = df['SQLDATE'].progress_apply(lambda x: StrToDate(x)) \n",
    "    df = df.drop(['SQLDATE', 'MonthYear', 'Year', 'FractionDate', 'DATEADDED'], axis = 1) \n",
    "    df[\"GoldsteinScale\"] = df['GoldsteinScale'].astype(float) \n",
    "    df[\"AvgTone\"] = df['AvgTone'].astype(float) \n",
    "    df[\"EventName\"] = df['EventCode'].progress_apply(lambda x: CAMEO_dict[x]) \n",
    "    df['EventName'] = df['EventName'].progress_apply(lambda x: x.split(\"-\")[0]) \n",
    "    df[\"EventBaseName\"] = df['EventBaseCode'].progress_apply(lambda x: CAMEO_dict[x].split(\"-\")[0]) \n",
    "    df[\"EventRootName\"] = df['EventRootCode'].progress_apply(lambda x: CAMEO_dict[x].split(\"-\")[0])\n",
    "    df[\"QuadClass\"] = df['QuadClass'].progress_apply(lambda x: quad_class[x])\n",
    "    df = df.drop(['EventBaseName', 'EventBaseCode', 'EventCode', 'EventRootCode'], axis = 1)\n",
    "    df = df.drop([elm for elm in list(df.columns) if 'ADM' in elm or 'FeatureID' in elm], axis = 1)\n",
    "    df[\"Actor1Geo_Type\"] = df['Actor1Geo_Type'].progress_apply(lambda x: actor_type[x])\n",
    "    df[\"Actor2Geo_Type\"] = df['Actor2Geo_Type'].progress_apply(lambda x: actor_type[x])\n",
    "    df[\"ActionGeo_Type\"] = df['ActionGeo_Type'].progress_apply(lambda x: actor_type[x])\n",
    "    \n",
    "    df['Actor1ReligionCode'] = df[ 'Actor1Religion1Code'] + df['Actor1Religion2Code'].fillna('')\n",
    "    df['Actor2ReligionCode'] = df[ 'Actor2Religion1Code'] + df['Actor2Religion2Code'].fillna('')\n",
    "\n",
    "    df = df.drop(['Actor1Religion2Code', 'Actor2Religion2Code'], axis = 1)\n",
    "    \n",
    "    df[\"Actor1ReligionCode\"] = df['Actor1ReligionCode'].progress_apply(lambda x: religions[x] if x in list(religions.keys()) else None)\n",
    "    df[\"Actor2ReligionCode\"] = df['Actor2ReligionCode'].progress_apply(lambda x: religions[x] if x in list(religions.keys()) else None)\n",
    "    df[ 'Actor1Religion1Code'] = df['Actor1Religion1Code'].progress_apply(lambda x: religions[x] if x in list(religions.keys()) else None)\n",
    "    df[ 'Actor2Religion1Code'] = df['Actor1Religion1Code'].progress_apply(lambda x: religions[x] if x in list(religions.keys()) else None)\n",
    "    \n",
    "    df['Actor1Code'] = df['Actor1Code'].progress_apply(lambda x: actor_codes[x] if x in list(actor_codes.keys()) else x)\n",
    "    df['Actor2Code'] = df['Actor2Code'].progress_apply(lambda x: actor_codes[x] if x in list(actor_codes.keys()) else x)\n",
    "    \n",
    "    df['Actor1EthnicCode'] = df['Actor1EthnicCode'].progress_apply(lambda x: ethnic_codes[x] if x in list(ethnic_codes.keys()) else x)\n",
    "    df['Actor2EthnicCode'] = df['Actor2EthnicCode'].progress_apply(lambda x: ethnic_codes[x] if x in list(ethnic_codes.keys()) else x)\n",
    "    \n",
    "    df['Actor1Type1Code'] = df['Actor1Type3Code'].progress_apply(lambda x: actor_type_codes[x] if x in list(actor_type_codes.keys()) else x).value_counts()\n",
    "    df['Actor1Type2Code'] = df['Actor1Type3Code'].progress_apply(lambda x: actor_type_codes[x] if x in list(actor_type_codes.keys()) else x).value_counts()\n",
    "    df['Actor1Type3Code'] = df['Actor1Type3Code'].progress_apply(lambda x: actor_type_codes[x] if x in list(actor_type_codes.keys()) else x).value_counts()\n",
    "    df['Actor2Type1Code'] = df['Actor1Type3Code'].progress_apply(lambda x: actor_type_codes[x] if x in list(actor_type_codes.keys()) else x).value_counts()\n",
    "    df['Actor2Type2Code'] = df['Actor1Type3Code'].progress_apply(lambda x: actor_type_codes[x] if x in list(actor_type_codes.keys()) else x).value_counts()\n",
    "    df['Actor2Type3Code'] = df['Actor1Type3Code'].progress_apply(lambda x: actor_type_codes[x] if x in list(actor_type_codes.keys()) else x).value_counts()\n",
    "    \n",
    "    return df\n",
    "\n",
    "def StrToDate(str_date): \n",
    "    \n",
    "    str_date = str(str_date)\n",
    "    \n",
    "    if len(str_date) == 8:\n",
    "        year, month, day = int(str_date[0:4]), int(str_date[4:6]), int(str_date[6:8])\n",
    "        datetime_date = datetime.datetime(year, month, day).date()\n",
    "        \n",
    "    if len(str_date) == 14:\n",
    "        year, month, day, hour, minute, second = int(str_date[0:4]), int(str_date[4:6]), int(str_date[6:8]), int(str_date[8:10]), int(str_date[10:12]), int(str_date[12:14]) \n",
    "        datetime_date = datetime.datetime(year, month, day, hour, minute, second)\n",
    "                \n",
    "    return datetime_date\n",
    "\n",
    "def insert_mongoDB(df, localhost, database, collection): \n",
    "    \n",
    "    # Making a Connection with MongoClient\n",
    "    client = MongoClient(\"mongodb://localhost:\" + localhost + \"/\")\n",
    "    \n",
    "    # Database\n",
    "    db = client[database]\n",
    "    \n",
    "    # Collection\n",
    "    col = db[collection]\n",
    "    \n",
    "    # Load to mongoDB \n",
    "    col.insert_many(df.to_dict('records'))"
   ]
  },
  {
   "cell_type": "code",
   "execution_count": null,
   "id": "9818ce8a",
   "metadata": {
    "ExecuteTime": {
     "end_time": "2023-07-02T10:01:35.012295Z",
     "start_time": "2023-07-02T10:01:34.314076Z"
    },
    "code_folding": [
     2,
     22,
     25,
     28,
     31
    ]
   },
   "outputs": [],
   "source": [
    "# GDELT files \n",
    "\n",
    "with open('data/GDELT Files/CAMEO.json', 'r') as fp: \n",
    "    CAMEO_dict = json.load(fp)\n",
    "    \n",
    "CAMEO_dict[\"1213\"] = \"reject judicial cooperation\"\n",
    "CAMEO_dict[\"1725\"] = \"impose administrative sanctions\"\n",
    "CAMEO_dict[\"---\"] = \"unknown\"\n",
    "CAMEO_dict[\"--\"] = \"unknown\"\n",
    "CAMEO_dict[\"-\"] = \"unknown\"\n",
    "\n",
    "GCAM = pd.read_excel('data/GDELT Files/GCAM.xlsx', index_col = 0)\n",
    "\n",
    "COUNTRY_dict = pd.read_csv(\"data/GDELT Files/CAMEO.country.txt\", sep = '\\t').set_index(\"LABEL\").to_dict()['CODE']\n",
    "COUNTRY_dict_reverse = {v: k for k, v in COUNTRY_dict.items()}\n",
    "\n",
    "GCAM = pd.read_excel(\"data/GDELT Files/GCAM.xlsx\", index_col = 0)\n",
    "\n",
    "quad_class = {1:'verbal  cooperation', 2:'material  cooperation', 3:'verbal conflict', 4:'material conflict'}\n",
    "\n",
    "actor_type = {0:None, 1:'COUNTRY', 2:'USSTATE', 3:'USCITY', 4:'WORLDCITY', 5:\"WORLDSTATE\"}\n",
    "\n",
    "with open('data/GDELT Files/religions.pickle', 'rb') as handle: \n",
    "    religions = pickle.load(handle)\n",
    "    \n",
    "with open('data/GDELT Files/actor_codes.pickle', 'rb') as handle: \n",
    "    actor_codes = pickle.load(handle)\n",
    "    \n",
    "with open('data/GDELT Files/ethnic_codes.pickle', 'rb') as handle: \n",
    "    ethnic_codes = pickle.load(handle)   \n",
    "         \n",
    "with open('data/GDELT Files/actor_type_codes.pickle', 'rb') as handle: \n",
    "    actor_type_codes = pickle.load(handle)   "
   ]
  },
  {
   "cell_type": "code",
   "execution_count": null,
   "id": "e4f40f0c",
   "metadata": {
    "ExecuteTime": {
     "end_time": "2023-07-02T10:01:49.298907Z",
     "start_time": "2023-07-02T10:01:39.210302Z"
    },
    "code_folding": []
   },
   "outputs": [],
   "source": [
    "# GDELT data \n",
    "\n",
    "gdelt = pd.read_feather('GDELT_DATA.fthr')"
   ]
  },
  {
   "cell_type": "code",
   "execution_count": null,
   "id": "b355873a",
   "metadata": {
    "ExecuteTime": {
     "end_time": "2023-07-02T10:25:48.733635Z",
     "start_time": "2023-07-02T10:02:02.345986Z"
    },
    "code_folding": [],
    "scrolled": true
   },
   "outputs": [],
   "source": [
    "# Clean rows \n",
    "clean_gdelt = clean_events(gdelt)\n",
    "\n",
    "# Filter columns\n",
    "filtered_clean_gdelt = clean_gdelt[['GLOBALEVENTID', 'Actor1CountryCode', 'Actor2CountryCode', 'IsRootEvent', \n",
    "                                    'QuadClass', 'GoldsteinScale', 'NumMentions', 'NumSources', 'NumArticles',\n",
    "                                    'AvgTone', 'ActionGeo_CountryCode', 'SOURCEURL', 'ScrapeDate', 'EventDate',\n",
    "                                    'EventName', 'EventRootName']]"
   ]
  },
  {
   "cell_type": "code",
   "execution_count": 19,
   "id": "ae8282cb",
   "metadata": {
    "ExecuteTime": {
     "end_time": "2023-07-02T10:44:20.240186Z",
     "start_time": "2023-07-02T10:44:13.740062Z"
    }
   },
   "outputs": [],
   "source": [
    "filtered_clean_gdelt.to_feather('FORMATTED_GDELT_DATA.fthr')"
   ]
  }
 ],
 "metadata": {
  "kernelspec": {
   "display_name": "Python 3",
   "language": "python",
   "name": "python3"
  },
  "language_info": {
   "codemirror_mode": {
    "name": "ipython",
    "version": 3
   },
   "file_extension": ".py",
   "mimetype": "text/x-python",
   "name": "python",
   "nbconvert_exporter": "python",
   "pygments_lexer": "ipython3",
   "version": "3.7.10"
  },
  "toc": {
   "base_numbering": 1,
   "nav_menu": {},
   "number_sections": true,
   "sideBar": true,
   "skip_h1_title": false,
   "title_cell": "Table of Contents",
   "title_sidebar": "Contents",
   "toc_cell": false,
   "toc_position": {},
   "toc_section_display": true,
   "toc_window_display": false
  }
 },
 "nbformat": 4,
 "nbformat_minor": 5
}
