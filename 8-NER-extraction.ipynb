{
 "cells": [
  {
   "cell_type": "code",
   "execution_count": 1,
   "id": "6bc80e6b",
   "metadata": {
    "ExecuteTime": {
     "end_time": "2023-11-28T10:25:37.869640Z",
     "start_time": "2023-11-28T10:25:34.721754Z"
    }
   },
   "outputs": [],
   "source": [
    "# Libraries \n",
    "\n",
    "import os\n",
    "import pickle\n",
    "import pandas as pd\n",
    "from tqdm.notebook import tqdm\n",
    "from pymongo import MongoClient\n",
    "\n",
    "import spacy\n",
    "from nltk.tokenize import sent_tokenize\n",
    "\n",
    "import nlp_utils\n",
    "\n",
    "from tner import TransformersNER"
   ]
  },
  {
   "cell_type": "code",
   "execution_count": 4,
   "id": "54801ace",
   "metadata": {
    "ExecuteTime": {
     "end_time": "2023-11-28T10:33:57.059453Z",
     "start_time": "2023-11-28T10:33:55.448729Z"
    }
   },
   "outputs": [],
   "source": [
    "# Read Saudi news triples \n",
    "\n",
    "with open('data/model_extracted_triples.pickle', 'rb') as handle: \n",
    "    \n",
    "    saudi_news_triples = pickle.load(handle)"
   ]
  },
  {
   "cell_type": "code",
   "execution_count": 5,
   "id": "5a9d3ab0",
   "metadata": {
    "ExecuteTime": {
     "end_time": "2023-11-28T10:33:59.176885Z",
     "start_time": "2023-11-28T10:33:59.166795Z"
    },
    "code_folding": [
     2
    ]
   },
   "outputs": [],
   "source": [
    "# Information extraction functions \n",
    "\n",
    "def ner_extractor(sentences, ner_model): \n",
    "    \n",
    "    result = {}\n",
    "    for sentence in sentences: \n",
    "\n",
    "        # Convert to flair format \n",
    "        flair_sentence = Sentence(sentence)\n",
    "\n",
    "        # Predict NER \n",
    "        ner_model.predict(flair_sentence)\n",
    "\n",
    "        # Format to list of NER tags \n",
    "        found_spans = flair_sentence.get_spans('ner')\n",
    "        \n",
    "        for span in found_spans:\n",
    "            \n",
    "            result[span.text] = span.tag\n",
    "            \n",
    "    return result"
   ]
  },
  {
   "cell_type": "code",
   "execution_count": null,
   "id": "4c86c6f5",
   "metadata": {
    "ExecuteTime": {
     "end_time": "2023-11-28T10:27:04.249772Z",
     "start_time": "2023-11-28T10:25:40.217180Z"
    }
   },
   "outputs": [],
   "source": [
    "# Information extraction \n",
    "\n",
    "# Extract NER \n",
    "ner_model = TransformersNER(\"tner/roberta-large-ontonotes5\")"
   ]
  },
  {
   "cell_type": "code",
   "execution_count": null,
   "id": "e6d3809c",
   "metadata": {
    "ExecuteTime": {
     "end_time": "2023-11-28T10:35:17.793633Z",
     "start_time": "2023-11-28T10:35:17.731407Z"
    },
    "scrolled": true
   },
   "outputs": [],
   "source": [
    "text = 'Saudi Arabia’s Public Investment Fund—referred to in economic circles as PIF—'\n",
    "ner_model.predict([text])"
   ]
  },
  {
   "cell_type": "code",
   "execution_count": null,
   "id": "a1f9bc93",
   "metadata": {
    "ExecuteTime": {
     "end_time": "2023-10-28T09:22:51.350198Z",
     "start_time": "2023-10-27T18:44:32.845615Z"
    }
   },
   "outputs": [],
   "source": [
    "article_content = {}\n",
    "for link, content in tqdm(saudi_news_triples.items()): \n",
    "    \n",
    "    link_results = []\n",
    "    for sentence_content in content: \n",
    "        \n",
    "        subject_ner = ner_extractor([sentence_content['subj']], ner_model)\n",
    "        \n",
    "        object_ner = ner_extractor([sentence_content['obj']], ner_model)\n",
    "        \n",
    "        result = {'sentence':sentence_content['sentence'], 'subj':subject_ner, 'obj':object_ner}\n",
    "        \n",
    "        link_results.append(result)\n",
    "    \n",
    "    article_content[link] = link_results"
   ]
  },
  {
   "cell_type": "code",
   "execution_count": null,
   "id": "5db43602",
   "metadata": {},
   "outputs": [],
   "source": []
  }
 ],
 "metadata": {
  "kernelspec": {
   "display_name": "Python 3",
   "language": "python",
   "name": "python3"
  },
  "language_info": {
   "codemirror_mode": {
    "name": "ipython",
    "version": 3
   },
   "file_extension": ".py",
   "mimetype": "text/x-python",
   "name": "python",
   "nbconvert_exporter": "python",
   "pygments_lexer": "ipython3",
   "version": "3.7.10"
  },
  "toc": {
   "base_numbering": 1,
   "nav_menu": {},
   "number_sections": true,
   "sideBar": true,
   "skip_h1_title": false,
   "title_cell": "Table of Contents",
   "title_sidebar": "Contents",
   "toc_cell": false,
   "toc_position": {},
   "toc_section_display": true,
   "toc_window_display": false
  }
 },
 "nbformat": 4,
 "nbformat_minor": 5
}
