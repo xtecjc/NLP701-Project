{
 "cells": [
  {
   "cell_type": "code",
   "execution_count": 8,
   "id": "93e674bd",
   "metadata": {
    "ExecuteTime": {
     "end_time": "2023-12-16T08:05:12.253678Z",
     "start_time": "2023-12-16T08:05:12.218441Z"
    },
    "code_folding": []
   },
   "outputs": [],
   "source": [
    "# Libraries \n",
    "\n",
    "import os\n",
    "import pandas as pd\n",
    "from google.cloud import bigquery\n",
    "\n",
    "credential_path = 'CREDENTIALS.json' # Enter your credentials\n",
    "os.environ[\"GOOGLE_APPLICATION_CREDENTIALS\"] = credential_path\n",
    "client = bigquery.Client(project ='PROJECT_NAME') # Enter your project name"
   ]
  },
  {
   "cell_type": "code",
   "execution_count": 2,
   "id": "ad893af4",
   "metadata": {
    "ExecuteTime": {
     "end_time": "2023-06-28T06:26:44.010722Z",
     "start_time": "2023-06-28T06:26:44.004660Z"
    },
    "code_folding": []
   },
   "outputs": [],
   "source": [
    "# SQL request \n",
    "\n",
    "sql_query = \"\"\"\n",
    "SELECT * \n",
    "FROM `gdelt-bq.gdeltv2.events` \n",
    "WHERE Actor1CountryCode = 'SAU'\n",
    "OR Actor2CountryCode = 'SAU' \n",
    "OR ActionGeo_CountryCode = 'SA'\n",
    "\"\"\""
   ]
  },
  {
   "cell_type": "code",
   "execution_count": 3,
   "id": "f5afb5c6",
   "metadata": {
    "ExecuteTime": {
     "end_time": "2023-06-28T08:50:08.566075Z",
     "start_time": "2023-06-28T06:26:47.103183Z"
    },
    "code_folding": []
   },
   "outputs": [],
   "source": [
    "# Get data \n",
    "\n",
    "# Make query \n",
    "query_job = client.query(sql_query)\n",
    "\n",
    "# Convert to df \n",
    "events = query_job.to_dataframe()"
   ]
  },
  {
   "cell_type": "code",
   "execution_count": null,
   "id": "60bbb735",
   "metadata": {
    "ExecuteTime": {
     "end_time": "2023-06-28T08:50:31.101113Z",
     "start_time": "2023-06-28T08:50:26.866812Z"
    }
   },
   "outputs": [],
   "source": [
    "events.to_feather('saudi_gdelt.fthr')"
   ]
  }
 ],
 "metadata": {
  "kernelspec": {
   "display_name": "Python 3",
   "language": "python",
   "name": "python3"
  },
  "language_info": {
   "codemirror_mode": {
    "name": "ipython",
    "version": 3
   },
   "file_extension": ".py",
   "mimetype": "text/x-python",
   "name": "python",
   "nbconvert_exporter": "python",
   "pygments_lexer": "ipython3",
   "version": "3.7.10"
  },
  "toc": {
   "base_numbering": 1,
   "nav_menu": {},
   "number_sections": true,
   "sideBar": true,
   "skip_h1_title": false,
   "title_cell": "Table of Contents",
   "title_sidebar": "Contents",
   "toc_cell": false,
   "toc_position": {},
   "toc_section_display": true,
   "toc_window_display": false
  }
 },
 "nbformat": 4,
 "nbformat_minor": 5
}
